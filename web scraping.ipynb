{
 "cells": [
  {
   "cell_type": "code",
   "execution_count": 24,
   "id": "4ab5ef6b",
   "metadata": {},
   "outputs": [],
   "source": [
    "# import libraries \n",
    "\n",
    "from bs4 import BeautifulSoup\n",
    "import requests\n",
    "import time\n",
    "import datetime\n",
    "import pandas as pd\n",
    "import smtplib"
   ]
  },
  {
   "cell_type": "markdown",
   "id": "437e39bf",
   "metadata": {},
   "source": [
    "## Connecting to websites "
   ]
  },
  {
   "cell_type": "code",
   "execution_count": 16,
   "id": "f47fd526",
   "metadata": {},
   "outputs": [
    {
     "name": "stdout",
     "output_type": "stream",
     "text": [
      "\n",
      "                   I'm Good with Math Graphic Novelty Sarcastic Funny T Shirt\n",
      "                  \n",
      "\n",
      "                    $16.99\n",
      "                   \n"
     ]
    }
   ],
   "source": [
    "\n",
    "\n",
    "url =\"https://www.amazon.com/dp/B01629R03W/ref=sspa_dk_detail_3?psc=1&pd_rd_i=B01629R03W&pd_rd_w=NAW4w&pf_rd_p=887084a2-5c34-4113-a4f8-b7947847c308&pd_rd_wg=XFpuI&pf_rd_r=X1JJ87H112NVGTRMHN0A&pd_rd_r=abb091ac-958e-404d-9e58-e7d7de3c18d5&spLa=ZW5jcnlwdGVkUXVhbGlmaWVyPUExUlgwUEgyR0RRS042JmVuY3J5cHRlZElkPUEwMDA5NDI2MlhVUE9DNkw3Sk5RUCZlbmNyeXB0ZWRBZElkPUEwMDkxMzQ3MzFWNEM1TzJTWVk5RiZ3aWRnZXROYW1lPXNwX2RldGFpbCZhY3Rpb249Y2xpY2tSZWRpcmVjdCZkb05vdExvZ0NsaWNrPXRydWU=\"\n",
    "\n",
    "\n",
    "headers ={\"User-Agent\": \"Mozilla/5.0 (Windows NT 10.0; Win64; x64) AppleWebKit/537.36 (KHTML, like Gecko) Chrome/78.0.3904.108 Safari/537.36\", \"Accept-Encoding\":\"gzip, deflate\", \"Accept\":\"text/html,application/xhtml+xml,application/xml;q=0.9,*/*;q=0.8\", \"DNT\":\"1\",\"Connection\":\"close\", \"Upgrade-Insecure-Requests\":\"1\"}\n",
    "\n",
    "page = requests.get(url,headers=headers)\n",
    "\n",
    "soup1 = BeautifulSoup(page.content, \"html.parser\")\n",
    "\n",
    "soup2 = BeautifulSoup(soup1.prettify(),'html.parser')\n",
    "\n",
    "## there is a lot of data but lets just pull the title for now\n",
    "## and id = productTitle you shd go to that page and click on inspect and click selective inspect on top right corner and then \n",
    "## select any thing from page and so the html code will be highlighted and we can get the id\n",
    "\n",
    "title = soup2.find(id=\"productTitle\").get_text()\n",
    "\n",
    "price = soup2.find(id='priceblock_ourprice').get_text()\n",
    "\n",
    "print(title)\n",
    "print(price)"
   ]
  },
  {
   "cell_type": "markdown",
   "id": "933bf94d",
   "metadata": {},
   "source": [
    "## Removing the white spaces"
   ]
  },
  {
   "cell_type": "code",
   "execution_count": 17,
   "id": "da7f02e9",
   "metadata": {},
   "outputs": [
    {
     "data": {
      "text/plain": [
       "'16.99'"
      ]
     },
     "execution_count": 17,
     "metadata": {},
     "output_type": "execute_result"
    }
   ],
   "source": [
    "price = price.strip()[1:]\n",
    "price"
   ]
  },
  {
   "cell_type": "code",
   "execution_count": 19,
   "id": "95ce5dd1",
   "metadata": {},
   "outputs": [
    {
     "data": {
      "text/plain": [
       "\"I'm Good with Math Graphic Novelty Sarcastic Funny T Shirt\""
      ]
     },
     "execution_count": 19,
     "metadata": {},
     "output_type": "execute_result"
    }
   ],
   "source": [
    "title = title.strip()\n",
    "title"
   ]
  },
  {
   "cell_type": "markdown",
   "id": "34590220",
   "metadata": {},
   "source": [
    "## Adding data into csv file "
   ]
  },
  {
   "cell_type": "code",
   "execution_count": 22,
   "id": "90237ff7",
   "metadata": {},
   "outputs": [
    {
     "name": "stdout",
     "output_type": "stream",
     "text": [
      "2021-10-16\n"
     ]
    }
   ],
   "source": [
    "# Create a Timestamp for your output to track when data was collected\n",
    "\n",
    "import datetime\n",
    "\n",
    "today = datetime.date.today()\n",
    "\n",
    "print(today)"
   ]
  },
  {
   "cell_type": "code",
   "execution_count": 23,
   "id": "b6d2aa68",
   "metadata": {},
   "outputs": [],
   "source": [
    "# Create CSV and write headers and data into the file\n",
    "\n",
    "import csv\n",
    "\n",
    "header = ['Title', 'Price', 'Date']\n",
    "data = [title, price, today]\n",
    "\n",
    "with open('AmazonWebScraperDataset.csv', 'w', newline='', encoding='UTF8') as f:\n",
    "    writer = csv.writer(f)\n",
    "    writer.writerow(header)\n",
    "    writer.writerow(data)\n",
    "\n",
    "    "
   ]
  },
  {
   "cell_type": "code",
   "execution_count": 27,
   "id": "c14420a4",
   "metadata": {},
   "outputs": [
    {
     "data": {
      "text/html": [
       "<div>\n",
       "<style scoped>\n",
       "    .dataframe tbody tr th:only-of-type {\n",
       "        vertical-align: middle;\n",
       "    }\n",
       "\n",
       "    .dataframe tbody tr th {\n",
       "        vertical-align: top;\n",
       "    }\n",
       "\n",
       "    .dataframe thead th {\n",
       "        text-align: right;\n",
       "    }\n",
       "</style>\n",
       "<table border=\"1\" class=\"dataframe\">\n",
       "  <thead>\n",
       "    <tr style=\"text-align: right;\">\n",
       "      <th></th>\n",
       "      <th>Title</th>\n",
       "      <th>Price</th>\n",
       "      <th>Date</th>\n",
       "    </tr>\n",
       "  </thead>\n",
       "  <tbody>\n",
       "    <tr>\n",
       "      <th>0</th>\n",
       "      <td>I'm Good with Math Graphic Novelty Sarcastic F...</td>\n",
       "      <td>16.99</td>\n",
       "      <td>2021-10-16</td>\n",
       "    </tr>\n",
       "  </tbody>\n",
       "</table>\n",
       "</div>"
      ],
      "text/plain": [
       "                                               Title  Price        Date\n",
       "0  I'm Good with Math Graphic Novelty Sarcastic F...  16.99  2021-10-16"
      ]
     },
     "execution_count": 27,
     "metadata": {},
     "output_type": "execute_result"
    }
   ],
   "source": [
    "df = pd.read_csv(\"AmazonWebScraperDataset.csv\")\n",
    "df.head()\n"
   ]
  },
  {
   "cell_type": "code",
   "execution_count": 28,
   "id": "33df4908",
   "metadata": {},
   "outputs": [],
   "source": [
    "def check_price():\n",
    "    url =\"https://www.amazon.com/dp/B01629R03W/ref=sspa_dk_detail_3?psc=1&pd_rd_i=B01629R03W&pd_rd_w=NAW4w&pf_rd_p=887084a2-5c34-4113-a4f8-b7947847c308&pd_rd_wg=XFpuI&pf_rd_r=X1JJ87H112NVGTRMHN0A&pd_rd_r=abb091ac-958e-404d-9e58-e7d7de3c18d5&spLa=ZW5jcnlwdGVkUXVhbGlmaWVyPUExUlgwUEgyR0RRS042JmVuY3J5cHRlZElkPUEwMDA5NDI2MlhVUE9DNkw3Sk5RUCZlbmNyeXB0ZWRBZElkPUEwMDkxMzQ3MzFWNEM1TzJTWVk5RiZ3aWRnZXROYW1lPXNwX2RldGFpbCZhY3Rpb249Y2xpY2tSZWRpcmVjdCZkb05vdExvZ0NsaWNrPXRydWU=\"\n",
    "\n",
    "\n",
    "    headers ={\"User-Agent\": \"Mozilla/5.0 (Windows NT 10.0; Win64; x64) AppleWebKit/537.36 (KHTML, like Gecko) Chrome/78.0.3904.108 Safari/537.36\", \"Accept-Encoding\":\"gzip, deflate\", \"Accept\":\"text/html,application/xhtml+xml,application/xml;q=0.9,*/*;q=0.8\", \"DNT\":\"1\",\"Connection\":\"close\", \"Upgrade-Insecure-Requests\":\"1\"}\n",
    "\n",
    "    page = requests.get(url,headers=headers)\n",
    "\n",
    "    soup1 = BeautifulSoup(page.content, \"html.parser\")\n",
    "\n",
    "    soup2 = BeautifulSoup(soup1.prettify(),'html.parser')\n",
    "\n",
    "    ## there is a lot of data but lets just pull the title for now\n",
    "    ## and id = productTitle you shd go to that page and click on inspect and click selective inspect on top right corner and then \n",
    "    ## select any thing from page and so the html code will be highlighted and we can get the id\n",
    "\n",
    "    title = soup2.find(id=\"productTitle\").get_text()\n",
    "\n",
    "    price = soup2.find(id='priceblock_ourprice').get_text()\n",
    "    \n",
    "    price = price.strip()[1:]\n",
    "    title = title.strip()\n",
    "\n",
    "    import datetime\n",
    "\n",
    "    today = datetime.date.today()\n",
    "    \n",
    "    import csv \n",
    "\n",
    "    header = ['Title', 'Price', 'Date']\n",
    "    data = [title, price, today]\n",
    "\n",
    "    with open('AmazonWebScraperDataset.csv', 'a+', newline='', encoding='UTF8') as f:\n",
    "        writer = csv.writer(f)\n",
    "        writer.writerow(data)\n",
    "    \n",
    "    "
   ]
  },
  {
   "cell_type": "markdown",
   "id": "18babcd8",
   "metadata": {},
   "source": [
    "## Creating a price tracker "
   ]
  },
  {
   "cell_type": "code",
   "execution_count": null,
   "id": "fc5ad15c",
   "metadata": {},
   "outputs": [],
   "source": [
    "# Runs check_price after a set time and inputs data into your CSV\n",
    "\n",
    "while(True):\n",
    "    check_price()\n",
    "    time.sleep(86400)"
   ]
  }
 ],
 "metadata": {
  "kernelspec": {
   "display_name": "Python 3",
   "language": "python",
   "name": "python3"
  },
  "language_info": {
   "codemirror_mode": {
    "name": "ipython",
    "version": 3
   },
   "file_extension": ".py",
   "mimetype": "text/x-python",
   "name": "python",
   "nbconvert_exporter": "python",
   "pygments_lexer": "ipython3",
   "version": "3.8.8"
  }
 },
 "nbformat": 4,
 "nbformat_minor": 5
}
